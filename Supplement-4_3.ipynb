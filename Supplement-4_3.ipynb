{
 "cells": [
  {
   "cell_type": "markdown",
   "metadata": {},
   "source": [
    "## Supplement 4: Classification"
   ]
  },
  {
   "cell_type": "code",
   "execution_count": 16,
   "metadata": {},
   "outputs": [],
   "source": [
    "%matplotlib inline\n",
    "import numpy as np\n"
   ]
  },
  {
   "cell_type": "markdown",
   "metadata": {},
   "source": [
    "### 4.3 Programming Task: Song popularity prediction using Logistic regression\n",
    "The datasets __train-songs.csv__ and __test-songs.csv__ contain audio properties of various tracks collected from the music streaming site Spotify.\n",
    "\n",
    "\n",
    "The goal of the task is to train a logistic regression classifier that predicts if\n",
    "a given track is popular or not.\n",
    "The dataset consists of 9 columns.\n",
    "The first 8 columns contain various audio properties\n",
    "which are provided as input features to the model.\n",
    "The last column contains the class labels given by 0(not popular) and 1(popular).\n",
    "\n",
    "i\\. Implement the loss function and its gradient for the logistic regression model.\n",
    " "
   ]
  },
  {
   "cell_type": "code",
   "execution_count": 17,
   "metadata": {},
   "outputs": [],
   "source": [
    "\n",
    "\n"
   ]
  },
  {
   "cell_type": "markdown",
   "metadata": {},
   "source": [
    "   ii\\. Using the gradient descent algorithm, train the logistic regression model.\n",
    "You may reuse/modify the gradient descent algorithm from the previous supplement.\n",
    "\n",
    "\n"
   ]
  },
  {
   "cell_type": "code",
   "execution_count": 18,
   "metadata": {},
   "outputs": [],
   "source": [
    "\n",
    "\n",
    "\n"
   ]
  },
  {
   "cell_type": "markdown",
   "metadata": {},
   "source": [
    "iii\\. Using model predictions on __test-songs.csv__, build the confusion\n",
    "matrix and subsequently calculate the precision, recall, and F1-score for a threshold of 0.4.\n"
   ]
  },
  {
   "cell_type": "code",
   "execution_count": 21,
   "metadata": {},
   "outputs": [],
   "source": [
    "\n",
    "\n"
   ]
  },
  {
   "cell_type": "markdown",
   "metadata": {},
   "source": [
    "iv\\. Plot the ROC curve for the model and calculate the AUC metric of your model.\n"
   ]
  },
  {
   "cell_type": "code",
   "execution_count": 20,
   "metadata": {},
   "outputs": [],
   "source": [
    "\n"
   ]
  },
  {
   "cell_type": "markdown",
   "metadata": {},
   "source": [
    "v\\. Consider the simpler models given below.The input $\\mathbf{x}$ in these models takes only 4 input features from the given dataset.\n",
    "\n",
    "- Model A $~~~~~~~~~~~$   $\\mathbf{x}$ = $[$ danceability, key, valence, tempo $]^\\top$\n",
    "- Model B $~~~~~~~~~~~$  $\\mathbf{x}$ = $[$ danceability, loudness, acousticness, instrumentalness $]^\\top$\n",
    "- Model C $~~~~~~~~~~~$ $\\mathbf{x}$ = $[$ key, liveness, valence, tempo $]^\\top$\n",
    "\n",
    "Train these models using your logistic regression implementation and determine the best performing model using the AUC metric."
   ]
  },
  {
   "cell_type": "code",
   "execution_count": null,
   "metadata": {},
   "outputs": [],
   "source": []
  }
 ],
 "metadata": {
  "kernel_info": {
   "name": "python3"
  },
  "kernelspec": {
   "display_name": "Python 3 (ipykernel)",
   "language": "python",
   "name": "python3"
  },
  "language_info": {
   "codemirror_mode": {
    "name": "ipython",
    "version": 3
   },
   "file_extension": ".py",
   "mimetype": "text/x-python",
   "name": "python",
   "nbconvert_exporter": "python",
   "pygments_lexer": "ipython3",
   "version": "3.9.13"
  },
  "nteract": {
   "version": "0.15.0"
  },
  "vscode": {
   "interpreter": {
    "hash": "460131dc2cda6b57dcc8b29ba379d1f6a9e911b276d5c377c45df622778462a6"
   }
  }
 },
 "nbformat": 4,
 "nbformat_minor": 2
}
